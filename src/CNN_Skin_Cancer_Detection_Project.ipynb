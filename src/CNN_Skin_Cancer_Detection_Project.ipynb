{
  "nbformat": 4,
  "nbformat_minor": 0,
  "metadata": {
    "kernelspec": {
      "name": "python3",
      "display_name": "Python 3"
    },
    "language_info": {
      "codemirror_mode": {
        "name": "ipython",
        "version": 3
      },
      "file_extension": ".py",
      "mimetype": "text/x-python",
      "name": "python",
      "nbconvert_exporter": "python",
      "pygments_lexer": "ipython3",
      "version": "3.6.4"
    },
    "colab": {
      "name": "CNN_Skin_Cancer_Detection_Project.ipynb",
      "provenance": [],
      "collapsed_sections": [],
      "machine_shape": "hm"
    },
    "accelerator": "GPU"
  },
  "cells": [
    {
      "cell_type": "markdown",
      "metadata": {
        "id": "CgXIcA0jVlGe"
      },
      "source": [
        "In this kernel, our group have followed following steps for model building and evaluation: \n",
        "\n",
        "> Step 1. Data analysis and preprocessing\n",
        "\n",
        "> Step 2. Model building\n",
        "\n",
        "> Step 3. Model training\n",
        "\n",
        "> Step 4. Model evaluation\n",
        "\n"
      ]
    },
    {
      "cell_type": "markdown",
      "metadata": {
        "id": "6opRIppVVlGf"
      },
      "source": [
        " ### First, import all libraries that used in this project"
      ]
    },
    {
      "cell_type": "code",
      "metadata": {
        "_cell_guid": "b1076dfc-b9ad-4769-8c92-a6c4dae69d19",
        "_uuid": "8f2839f25d086af736a60e9eeb907d3b93b6e0e5",
        "id": "YMfrHSEaVlGh",
        "outputId": "b085f014-1f21-49e9-92a9-07c0ed724ca4",
        "colab": {
          "base_uri": "https://localhost:8080/",
          "height": 125
        }
      },
      "source": [
        "%matplotlib inline\n",
        "# python libraties\n",
        "import os, cv2,itertools\n",
        "import matplotlib.pyplot as plt\n",
        "import numpy as np\n",
        "import pandas as pd\n",
        "from tqdm import tqdm\n",
        "from glob import glob\n",
        "from PIL import Image\n",
        "\n",
        "# pytorch libraries\n",
        "import torch\n",
        "from torch import optim,nn\n",
        "from torch.autograd import Variable\n",
        "from torch.utils.data import DataLoader,Dataset\n",
        "from torchvision import models,transforms\n",
        "import torch.nn.functional as F\n",
        "\n",
        "# sklearn libraries\n",
        "from sklearn.metrics import confusion_matrix\n",
        "from sklearn.model_selection import train_test_split\n",
        "from sklearn.metrics import classification_report\n",
        "from sklearn.metrics import roc_auc_score, roc_curve\n",
        "\n",
        "# to make the results are reproducible\n",
        "np.random.seed(10)\n",
        "torch.manual_seed(10)\n",
        "torch.cuda.manual_seed(10)\n",
        "\n",
        "import multiprocessing\n",
        "\n",
        "from google.colab import drive\n",
        "drive.mount('/content/drive', force_remount=True)"
      ],
      "execution_count": null,
      "outputs": [
        {
          "output_type": "stream",
          "text": [
            "Go to this URL in a browser: https://accounts.google.com/o/oauth2/auth?client_id=947318989803-6bn6qk8qdgf4n4g3pfee6491hc0brc4i.apps.googleusercontent.com&redirect_uri=urn%3Aietf%3Awg%3Aoauth%3A2.0%3Aoob&scope=email%20https%3A%2F%2Fwww.googleapis.com%2Fauth%2Fdocs.test%20https%3A%2F%2Fwww.googleapis.com%2Fauth%2Fdrive%20https%3A%2F%2Fwww.googleapis.com%2Fauth%2Fdrive.photos.readonly%20https%3A%2F%2Fwww.googleapis.com%2Fauth%2Fpeopleapi.readonly&response_type=code\n",
            "\n",
            "Enter your authorization code:\n",
            "··········\n",
            "Mounted at /content/drive\n"
          ],
          "name": "stdout"
        }
      ]
    },
    {
      "cell_type": "markdown",
      "metadata": {
        "id": "N3rGu5WaVlGm"
      },
      "source": [
        "## Step 1. Data analysis and preprocessing"
      ]
    },
    {
      "cell_type": "markdown",
      "metadata": {
        "id": "coVHlsPpVlGn"
      },
      "source": [
        "Get the all image data paths， match the row information in HAM10000_metadata.csv with its corresponding image"
      ]
    },
    {
      "cell_type": "code",
      "metadata": {
        "_cell_guid": "79c7e3d0-c299-4dcb-8224-4455121ee9b0",
        "_uuid": "d629ff2d2480ee46fbb7e2d37f6b5fab8052498a",
        "id": "oAtWZgWjVlGo"
      },
      "source": [
        "data_dir = '/content/drive/Shared drives/CNN_Skin_Cancer_Detection/Colab/data/skin_cancer'\n",
        "all_image_path = glob(os.path.join(data_dir, '*', '*.jpg'))\n",
        "imageid_path_dict = {os.path.splitext(os.path.basename(x))[0]: x for x in all_image_path}\n",
        "lesion_type_dict = {\n",
        "    'nv': 'Melanocytic nevi',\n",
        "    'mel': 'dermatofibroma',\n",
        "    'bkl': 'Benign keratosis-like lesions ',\n",
        "    'bcc': 'Basal cell carcinoma',\n",
        "    'akiec': 'Actinic keratoses',\n",
        "    'vasc': 'Vascular lesions',\n",
        "    'df': 'Dermatofibroma'\n",
        "}"
      ],
      "execution_count": null,
      "outputs": []
    },
    {
      "cell_type": "markdown",
      "metadata": {
        "id": "PrYbkcDXVlGq"
      },
      "source": [
        "This function is used to compute the mean and standard deviation on the whole dataset, will use for inputs normalization"
      ]
    },
    {
      "cell_type": "code",
      "metadata": {
        "id": "v5xhFEuiVlGs"
      },
      "source": [
        "def compute_img_mean_std(image_paths):\n",
        "    \"\"\"\n",
        "        computing the mean and std of three channel on the whole dataset,\n",
        "        first we should normalize the image from 0-255 to 0-1\n",
        "    \"\"\"\n",
        "\n",
        "    img_h, img_w = 224, 224\n",
        "    imgs = []\n",
        "    means, stdevs = [], []\n",
        "\n",
        "    for i in tqdm(range(len(image_paths))):\n",
        "        img = cv2.imread(image_paths[i])\n",
        "        img = cv2.resize(img, (img_h, img_w))\n",
        "        imgs.append(img)\n",
        "\n",
        "    imgs = np.stack(imgs, axis=3)\n",
        "    print(imgs.shape)\n",
        "\n",
        "    imgs = imgs.astype(np.float32) / 255.\n",
        "\n",
        "    for i in range(3):\n",
        "        pixels = imgs[:, :, i, :].ravel()  # resize to one row\n",
        "        means.append(np.mean(pixels))\n",
        "        stdevs.append(np.std(pixels))\n",
        "\n",
        "    means.reverse()  # BGR --> RGB\n",
        "    stdevs.reverse()\n",
        "\n",
        "    print(\"normMean = {}\".format(means))\n",
        "    print(\"normStd = {}\".format(stdevs))\n",
        "    return means,stdevs"
      ],
      "execution_count": null,
      "outputs": []
    },
    {
      "cell_type": "markdown",
      "metadata": {
        "id": "Jz8j6dkHVlGv"
      },
      "source": [
        "Return the mean and std of RGB channels"
      ]
    },
    {
      "cell_type": "code",
      "metadata": {
        "id": "PMcfb806VlGx"
      },
      "source": [
        "#norm_mean,norm_std = compute_img_mean_std(all_image_path)\n",
        "norm_mean = [0.763038, 0.54564667, 0.57004464]\n",
        "norm_std = [0.14092727, 0.15261286, 0.1699712]"
      ],
      "execution_count": null,
      "outputs": []
    },
    {
      "cell_type": "code",
      "metadata": {
        "id": "ZqyzsKwKVlG1"
      },
      "source": [
        "df_original = pd.read_csv(os.path.join(data_dir, 'HAM10000_metadata.csv'))\n",
        "df_original['path'] = df_original['image_id'].map(imageid_path_dict.get)\n",
        "df_original['cell_type'] = df_original['dx'].map(lesion_type_dict.get)\n",
        "df_original['cell_type_idx'] = pd.Categorical(df_original['cell_type']).codes"
      ],
      "execution_count": null,
      "outputs": []
    },
    {
      "cell_type": "code",
      "metadata": {
        "id": "lDokDaQDxZE6",
        "outputId": "d8486c50-bdda-4b67-f429-371f14235abf",
        "colab": {
          "base_uri": "https://localhost:8080/",
          "height": 210
        }
      },
      "source": [
        "# Check if theres any NULL value in the dataset\n",
        "df_original.isnull().sum()"
      ],
      "execution_count": null,
      "outputs": [
        {
          "output_type": "execute_result",
          "data": {
            "text/plain": [
              "lesion_id         0\n",
              "image_id          0\n",
              "dx                0\n",
              "dx_type           0\n",
              "age              57\n",
              "sex               0\n",
              "localization      0\n",
              "path              0\n",
              "cell_type         0\n",
              "cell_type_idx     0\n",
              "dtype: int64"
            ]
          },
          "metadata": {
            "tags": []
          },
          "execution_count": 8
        }
      ]
    },
    {
      "cell_type": "code",
      "metadata": {
        "id": "dcj567tMxoYt"
      },
      "source": [
        "# Fill NULL values with median\n",
        "df_original['age'].fillna((-1), inplace=True)"
      ],
      "execution_count": null,
      "outputs": []
    },
    {
      "cell_type": "code",
      "metadata": {
        "id": "UYTHNEsn_Nx6"
      },
      "source": [
        "# Label encoding\n",
        "df_original['MR_dx_type'] = df_original['dx_type'].map(df_original['dx_type'].value_counts(dropna = False))\n",
        "df_original['MR_age'] = df_original['age'].map(df_original['age'].value_counts(dropna = False))\n",
        "df_original['MR_sex'] = df_original['sex'].map(df_original['sex'].value_counts(dropna = False))\n",
        "df_original['MR_localization'] = df_original['localization'].map(df_original['localization'].value_counts(dropna = False))"
      ],
      "execution_count": null,
      "outputs": []
    },
    {
      "cell_type": "code",
      "metadata": {
        "id": "bgT1g5DXVlG7",
        "outputId": "df1efa27-802c-4a5c-deaa-0eec44434056",
        "colab": {
          "base_uri": "https://localhost:8080/",
          "height": 203
        }
      },
      "source": [
        "# this will tell us how many images are associated with each lesion_id\n",
        "df_undup = df_original.groupby('lesion_id').count()\n",
        "# now we filter out lesion_id's that have only one image associated with it\n",
        "df_undup = df_undup[df_undup['image_id'] == 1]\n",
        "df_undup.reset_index(inplace=True)\n",
        "df_undup.head()"
      ],
      "execution_count": null,
      "outputs": [
        {
          "output_type": "execute_result",
          "data": {
            "text/html": [
              "<div>\n",
              "<style scoped>\n",
              "    .dataframe tbody tr th:only-of-type {\n",
              "        vertical-align: middle;\n",
              "    }\n",
              "\n",
              "    .dataframe tbody tr th {\n",
              "        vertical-align: top;\n",
              "    }\n",
              "\n",
              "    .dataframe thead th {\n",
              "        text-align: right;\n",
              "    }\n",
              "</style>\n",
              "<table border=\"1\" class=\"dataframe\">\n",
              "  <thead>\n",
              "    <tr style=\"text-align: right;\">\n",
              "      <th></th>\n",
              "      <th>lesion_id</th>\n",
              "      <th>image_id</th>\n",
              "      <th>dx</th>\n",
              "      <th>dx_type</th>\n",
              "      <th>age</th>\n",
              "      <th>sex</th>\n",
              "      <th>localization</th>\n",
              "      <th>path</th>\n",
              "      <th>cell_type</th>\n",
              "      <th>cell_type_idx</th>\n",
              "      <th>MR_dx_type</th>\n",
              "      <th>MR_age</th>\n",
              "      <th>MR_sex</th>\n",
              "      <th>MR_localization</th>\n",
              "    </tr>\n",
              "  </thead>\n",
              "  <tbody>\n",
              "    <tr>\n",
              "      <th>0</th>\n",
              "      <td>HAM_0000001</td>\n",
              "      <td>1</td>\n",
              "      <td>1</td>\n",
              "      <td>1</td>\n",
              "      <td>1</td>\n",
              "      <td>1</td>\n",
              "      <td>1</td>\n",
              "      <td>1</td>\n",
              "      <td>1</td>\n",
              "      <td>1</td>\n",
              "      <td>1</td>\n",
              "      <td>1</td>\n",
              "      <td>1</td>\n",
              "      <td>1</td>\n",
              "    </tr>\n",
              "    <tr>\n",
              "      <th>1</th>\n",
              "      <td>HAM_0000003</td>\n",
              "      <td>1</td>\n",
              "      <td>1</td>\n",
              "      <td>1</td>\n",
              "      <td>1</td>\n",
              "      <td>1</td>\n",
              "      <td>1</td>\n",
              "      <td>1</td>\n",
              "      <td>1</td>\n",
              "      <td>1</td>\n",
              "      <td>1</td>\n",
              "      <td>1</td>\n",
              "      <td>1</td>\n",
              "      <td>1</td>\n",
              "    </tr>\n",
              "    <tr>\n",
              "      <th>2</th>\n",
              "      <td>HAM_0000004</td>\n",
              "      <td>1</td>\n",
              "      <td>1</td>\n",
              "      <td>1</td>\n",
              "      <td>1</td>\n",
              "      <td>1</td>\n",
              "      <td>1</td>\n",
              "      <td>1</td>\n",
              "      <td>1</td>\n",
              "      <td>1</td>\n",
              "      <td>1</td>\n",
              "      <td>1</td>\n",
              "      <td>1</td>\n",
              "      <td>1</td>\n",
              "    </tr>\n",
              "    <tr>\n",
              "      <th>3</th>\n",
              "      <td>HAM_0000007</td>\n",
              "      <td>1</td>\n",
              "      <td>1</td>\n",
              "      <td>1</td>\n",
              "      <td>1</td>\n",
              "      <td>1</td>\n",
              "      <td>1</td>\n",
              "      <td>1</td>\n",
              "      <td>1</td>\n",
              "      <td>1</td>\n",
              "      <td>1</td>\n",
              "      <td>1</td>\n",
              "      <td>1</td>\n",
              "      <td>1</td>\n",
              "    </tr>\n",
              "    <tr>\n",
              "      <th>4</th>\n",
              "      <td>HAM_0000008</td>\n",
              "      <td>1</td>\n",
              "      <td>1</td>\n",
              "      <td>1</td>\n",
              "      <td>1</td>\n",
              "      <td>1</td>\n",
              "      <td>1</td>\n",
              "      <td>1</td>\n",
              "      <td>1</td>\n",
              "      <td>1</td>\n",
              "      <td>1</td>\n",
              "      <td>1</td>\n",
              "      <td>1</td>\n",
              "      <td>1</td>\n",
              "    </tr>\n",
              "  </tbody>\n",
              "</table>\n",
              "</div>"
            ],
            "text/plain": [
              "     lesion_id  image_id  dx  ...  MR_age  MR_sex  MR_localization\n",
              "0  HAM_0000001         1   1  ...       1       1                1\n",
              "1  HAM_0000003         1   1  ...       1       1                1\n",
              "2  HAM_0000004         1   1  ...       1       1                1\n",
              "3  HAM_0000007         1   1  ...       1       1                1\n",
              "4  HAM_0000008         1   1  ...       1       1                1\n",
              "\n",
              "[5 rows x 14 columns]"
            ]
          },
          "metadata": {
            "tags": []
          },
          "execution_count": 12
        }
      ]
    },
    {
      "cell_type": "code",
      "metadata": {
        "id": "e84VSJIVVlHA"
      },
      "source": [
        "# here we identify lesion_id's that have duplicate images and those that have only one image.\n",
        "def get_duplicates(x):\n",
        "    unique_list = list(df_undup['lesion_id'])\n",
        "    if x in unique_list:\n",
        "        return 'unduplicated'\n",
        "    else:\n",
        "        return 'duplicated'\n",
        "\n",
        "# create a new colum that is a copy of the lesion_id column\n",
        "df_original['duplicates'] = df_original['lesion_id']\n",
        "# apply the function to this new column\n",
        "df_original['duplicates'] = df_original['duplicates'].apply(get_duplicates)"
      ],
      "execution_count": null,
      "outputs": []
    },
    {
      "cell_type": "code",
      "metadata": {
        "id": "K-lWpSdPVlHD",
        "outputId": "53da67c4-26ea-4f18-a76d-0b4dde49a091",
        "colab": {
          "base_uri": "https://localhost:8080/",
          "height": 70
        }
      },
      "source": [
        "df_original['duplicates'].value_counts()"
      ],
      "execution_count": null,
      "outputs": [
        {
          "output_type": "execute_result",
          "data": {
            "text/plain": [
              "unduplicated    5514\n",
              "duplicated      4501\n",
              "Name: duplicates, dtype: int64"
            ]
          },
          "metadata": {
            "tags": []
          },
          "execution_count": 14
        }
      ]
    },
    {
      "cell_type": "code",
      "metadata": {
        "id": "EjlpUJQDVlHG",
        "outputId": "9abf831b-75d1-41b0-f097-1bb02c6b459f",
        "colab": {
          "base_uri": "https://localhost:8080/",
          "height": 34
        }
      },
      "source": [
        "# now we filter out images that don't have duplicates\n",
        "df_undup = df_original[df_original['duplicates'] == 'unduplicated']\n",
        "df_undup.shape"
      ],
      "execution_count": null,
      "outputs": [
        {
          "output_type": "execute_result",
          "data": {
            "text/plain": [
              "(5514, 15)"
            ]
          },
          "metadata": {
            "tags": []
          },
          "execution_count": 15
        }
      ]
    },
    {
      "cell_type": "code",
      "metadata": {
        "id": "4T7pi28YzmOr",
        "outputId": "f4142c85-9c72-4586-8055-a9be49c84b1b",
        "colab": {
          "base_uri": "https://localhost:8080/",
          "height": 477
        }
      },
      "source": [
        "fig, ax1 = plt.subplots(1, 1, figsize= (10, 5))\n",
        "df_undup['cell_type'].value_counts().plot(kind='bar', ax=ax1)"
      ],
      "execution_count": null,
      "outputs": [
        {
          "output_type": "execute_result",
          "data": {
            "text/plain": [
              "<matplotlib.axes._subplots.AxesSubplot at 0x7f9f499feb38>"
            ]
          },
          "metadata": {
            "tags": []
          },
          "execution_count": 16
        },
        {
          "output_type": "display_data",
          "data": {
            "image/png": "[encoded data removed]",
            "text/plain": [
              "<Figure size 720x360 with 1 Axes>"
            ]
          },
          "metadata": {
            "tags": []
          }
        }
      ]
    },
    {
      "cell_type": "code",
      "metadata": {
        "id": "RFh-ulKmVlHK",
        "outputId": "4dd2dc50-ac82-4514-bb3c-c87983f23545",
        "colab": {
          "base_uri": "https://localhost:8080/",
          "height": 34
        }
      },
      "source": [
        "# now we create a val set using df because we are sure that none of these images have augmented duplicates in the train set\n",
        "y = df_undup['cell_type_idx']\n",
        "_, df_val = train_test_split(df_undup, test_size=0.2, random_state=101, stratify=y)\n",
        "df_val.shape"
      ],
      "execution_count": null,
      "outputs": [
        {
          "output_type": "execute_result",
          "data": {
            "text/plain": [
              "(1103, 15)"
            ]
          },
          "metadata": {
            "tags": []
          },
          "execution_count": 17
        }
      ]
    },
    {
      "cell_type": "code",
      "metadata": {
        "id": "KflBwhX2VlHM",
        "outputId": "c0f7a9e2-148f-42da-90d2-3c8f675952a1",
        "colab": {
          "base_uri": "https://localhost:8080/",
          "height": 158
        }
      },
      "source": [
        "df_val['cell_type_idx'].value_counts()"
      ],
      "execution_count": null,
      "outputs": [
        {
          "output_type": "execute_result",
          "data": {
            "text/plain": [
              "4    883\n",
              "2     88\n",
              "6     46\n",
              "1     35\n",
              "0     30\n",
              "5     13\n",
              "3      8\n",
              "Name: cell_type_idx, dtype: int64"
            ]
          },
          "metadata": {
            "tags": []
          },
          "execution_count": 18
        }
      ]
    },
    {
      "cell_type": "code",
      "metadata": {
        "id": "edJKJLORz0k9",
        "outputId": "13790f39-f751-4648-ec87-6bb4d9101e55",
        "colab": {
          "base_uri": "https://localhost:8080/",
          "height": 477
        }
      },
      "source": [
        "fig, ax1 = plt.subplots(1, 1, figsize= (10, 5))\n",
        "df_val['cell_type'].value_counts().plot(kind='bar', ax=ax1)"
      ],
      "execution_count": null,
      "outputs": [
        {
          "output_type": "execute_result",
          "data": {
            "text/plain": [
              "<matplotlib.axes._subplots.AxesSubplot at 0x7f9f47fc1668>"
            ]
          },
          "metadata": {
            "tags": []
          },
          "execution_count": 19
        },
        {
          "output_type": "display_data",
          "data": {
            "image/png": "[encoded data removed]",
            "text/plain": [
              "<Figure size 720x360 with 1 Axes>"
            ]
          },
          "metadata": {
            "tags": []
          }
        }
      ]
    },
    {
      "cell_type": "code",
      "metadata": {
        "id": "MUpsxKEwVlHO",
        "outputId": "f68a6b02-9798-424d-e687-419b92e432a8",
        "colab": {
          "base_uri": "https://localhost:8080/",
          "height": 52
        }
      },
      "source": [
        "# This set will be df_original excluding all rows that are in the val set\n",
        "# This function identifies if an image is part of the train or val set.\n",
        "def get_val_rows(x):\n",
        "    # create a list of all the lesion_id's in the val set\n",
        "    val_list = list(df_val['image_id'])\n",
        "    if str(x) in val_list:\n",
        "        return 'val'\n",
        "    else:\n",
        "        return 'train'\n",
        "\n",
        "# identify train and val rows\n",
        "# create a new colum that is a copy of the image_id column\n",
        "df_original['train_or_val'] = df_original['image_id']\n",
        "# apply the function to this new column\n",
        "df_original['train_or_val'] = df_original['train_or_val'].apply(get_val_rows)\n",
        "# filter out train rows\n",
        "df_train = df_original[df_original['train_or_val'] == 'train']\n",
        "print(len(df_train))\n",
        "print(len(df_val))"
      ],
      "execution_count": null,
      "outputs": [
        {
          "output_type": "stream",
          "text": [
            "8912\n",
            "1103\n"
          ],
          "name": "stdout"
        }
      ]
    },
    {
      "cell_type": "code",
      "metadata": {
        "id": "6VNFoVzGVlHR",
        "outputId": "a3b8a220-2e33-40d7-9682-42a99870bb2a",
        "colab": {
          "base_uri": "https://localhost:8080/",
          "height": 158
        }
      },
      "source": [
        "df_train['cell_type_idx'].value_counts()"
      ],
      "execution_count": null,
      "outputs": [
        {
          "output_type": "execute_result",
          "data": {
            "text/plain": [
              "4    5822\n",
              "6    1067\n",
              "2    1011\n",
              "1     479\n",
              "0     297\n",
              "5     129\n",
              "3     107\n",
              "Name: cell_type_idx, dtype: int64"
            ]
          },
          "metadata": {
            "tags": []
          },
          "execution_count": 21
        }
      ]
    },
    {
      "cell_type": "code",
      "metadata": {
        "id": "YLT7xAd90Rnu",
        "outputId": "7652aa35-0881-45fc-8dd6-a42fc037b6c2",
        "colab": {
          "base_uri": "https://localhost:8080/",
          "height": 477
        }
      },
      "source": [
        "fig, ax1 = plt.subplots(1, 1, figsize= (10, 5))\n",
        "df_train['cell_type'].value_counts().plot(kind='bar', ax=ax1)"
      ],
      "execution_count": null,
      "outputs": [
        {
          "output_type": "execute_result",
          "data": {
            "text/plain": [
              "<matplotlib.axes._subplots.AxesSubplot at 0x7f9f446c6978>"
            ]
          },
          "metadata": {
            "tags": []
          },
          "execution_count": 22
        },
        {
          "output_type": "display_data",
          "data": {
            "image/png": "[encoded data removed]",
            "text/plain": [
              "<Figure size 720x360 with 1 Axes>"
            ]
          },
          "metadata": {
            "tags": []
          }
        }
      ]
    },
    {
      "cell_type": "code",
      "metadata": {
        "id": "9fxWSjwIVlHU",
        "outputId": "b519e4d0-1aba-4862-c485-44e5a8974f76",
        "colab": {
          "base_uri": "https://localhost:8080/",
          "height": 158
        }
      },
      "source": [
        "df_val['cell_type'].value_counts()"
      ],
      "execution_count": null,
      "outputs": [
        {
          "output_type": "execute_result",
          "data": {
            "text/plain": [
              "Melanocytic nevi                  883\n",
              "Benign keratosis-like lesions      88\n",
              "dermatofibroma                     46\n",
              "Basal cell carcinoma               35\n",
              "Actinic keratoses                  30\n",
              "Vascular lesions                   13\n",
              "Dermatofibroma                      8\n",
              "Name: cell_type, dtype: int64"
            ]
          },
          "metadata": {
            "tags": []
          },
          "execution_count": 23
        }
      ]
    },
    {
      "cell_type": "markdown",
      "metadata": {
        "id": "iUe7DoLfVlHX"
      },
      "source": [
        "**From the above statistics of each category, we can see that there is a serious class imbalance in the training data. To solve this problem, I think we can start from two aspects, one is equalization sampling, and the other is a loss function that can be used to mitigate category imbalance during training, such as focal loss.**"
      ]
    },
    {
      "cell_type": "code",
      "metadata": {
        "id": "ISMS0GZbVlHX",
        "outputId": "c772a24d-bc0e-4b49-b1d4-73ce1e2fa2e9",
        "colab": {
          "base_uri": "https://localhost:8080/",
          "height": 54
        }
      },
      "source": [
        "# Copy fewer class to balance the number of 7 classes\n",
        "'''\n",
        "data_aug_rate = [15,10,5,50,0,40,5]\n",
        "for i in range(7):\n",
        "    if data_aug_rate[i]:\n",
        "        df_train=df_train.append([df_train.loc[df_train['cell_type_idx'] == i,:]]*(data_aug_rate[i]-1), ignore_index=True)\n",
        "df_train['cell_type'].value_counts()\n",
        "'''"
      ],
      "execution_count": null,
      "outputs": [
        {
          "output_type": "execute_result",
          "data": {
            "text/plain": [
              "\"\\ndata_aug_rate = [15,10,5,50,0,40,5]\\nfor i in range(7):\\n    if data_aug_rate[i]:\\n        df_train=df_train.append([df_train.loc[df_train['cell_type_idx'] == i,:]]*(data_aug_rate[i]-1), ignore_index=True)\\ndf_train['cell_type'].value_counts()\\n\""
            ]
          },
          "metadata": {
            "tags": []
          },
          "execution_count": 24
        }
      ]
    },
    {
      "cell_type": "markdown",
      "metadata": {
        "id": "WCnR3uuZVlHZ"
      },
      "source": [
        "At the beginning, I divided the data into three parts, training set, validation set and test set. Considering the small amount of data, I did not further divide the validation set data in practice."
      ]
    },
    {
      "cell_type": "code",
      "metadata": {
        "id": "Xilr7yBdVlHa"
      },
      "source": [
        "# # We can split the test set again in a validation set and a true test set:\n",
        "# df_val, df_test = train_test_split(df_val, test_size=0.5)\n",
        "df_train = df_train.reset_index()\n",
        "df_val = df_val.reset_index()\n",
        "# df_test = df_test.reset_index()"
      ],
      "execution_count": null,
      "outputs": []
    },
    {
      "cell_type": "code",
      "metadata": {
        "id": "XHkMoey68ukW",
        "outputId": "f3de63b1-d0c6-407d-b2b2-73175304bdd2",
        "colab": {
          "base_uri": "https://localhost:8080/",
          "height": 374
        }
      },
      "source": [
        "df_train.head()"
      ],
      "execution_count": null,
      "outputs": [
        {
          "output_type": "execute_result",
          "data": {
            "text/html": [
              "<div>\n",
              "<style scoped>\n",
              "    .dataframe tbody tr th:only-of-type {\n",
              "        vertical-align: middle;\n",
              "    }\n",
              "\n",
              "    .dataframe tbody tr th {\n",
              "        vertical-align: top;\n",
              "    }\n",
              "\n",
              "    .dataframe thead th {\n",
              "        text-align: right;\n",
              "    }\n",
              "</style>\n",
              "<table border=\"1\" class=\"dataframe\">\n",
              "  <thead>\n",
              "    <tr style=\"text-align: right;\">\n",
              "      <th></th>\n",
              "      <th>index</th>\n",
              "      <th>lesion_id</th>\n",
              "      <th>image_id</th>\n",
              "      <th>dx</th>\n",
              "      <th>dx_type</th>\n",
              "      <th>age</th>\n",
              "      <th>sex</th>\n",
              "      <th>localization</th>\n",
              "      <th>path</th>\n",
              "      <th>cell_type</th>\n",
              "      <th>cell_type_idx</th>\n",
              "      <th>MR_dx_type</th>\n",
              "      <th>MR_age</th>\n",
              "      <th>MR_sex</th>\n",
              "      <th>MR_localization</th>\n",
              "      <th>duplicates</th>\n",
              "      <th>train_or_val</th>\n",
              "    </tr>\n",
              "  </thead>\n",
              "  <tbody>\n",
              "    <tr>\n",
              "      <th>0</th>\n",
              "      <td>0</td>\n",
              "      <td>HAM_0000118</td>\n",
              "      <td>ISIC_0027419</td>\n",
              "      <td>bkl</td>\n",
              "      <td>histo</td>\n",
              "      <td>80.0</td>\n",
              "      <td>male</td>\n",
              "      <td>scalp</td>\n",
              "      <td>/content/drive/Shared drives/ECE4179/Colab/dat...</td>\n",
              "      <td>Benign keratosis-like lesions</td>\n",
              "      <td>2</td>\n",
              "      <td>5340</td>\n",
              "      <td>404</td>\n",
              "      <td>5406</td>\n",
              "      <td>128</td>\n",
              "      <td>duplicated</td>\n",
              "      <td>train</td>\n",
              "    </tr>\n",
              "    <tr>\n",
              "      <th>1</th>\n",
              "      <td>1</td>\n",
              "      <td>HAM_0000118</td>\n",
              "      <td>ISIC_0025030</td>\n",
              "      <td>bkl</td>\n",
              "      <td>histo</td>\n",
              "      <td>80.0</td>\n",
              "      <td>male</td>\n",
              "      <td>scalp</td>\n",
              "      <td>/content/drive/Shared drives/ECE4179/Colab/dat...</td>\n",
              "      <td>Benign keratosis-like lesions</td>\n",
              "      <td>2</td>\n",
              "      <td>5340</td>\n",
              "      <td>404</td>\n",
              "      <td>5406</td>\n",
              "      <td>128</td>\n",
              "      <td>duplicated</td>\n",
              "      <td>train</td>\n",
              "    </tr>\n",
              "    <tr>\n",
              "      <th>2</th>\n",
              "      <td>2</td>\n",
              "      <td>HAM_0002730</td>\n",
              "      <td>ISIC_0026769</td>\n",
              "      <td>bkl</td>\n",
              "      <td>histo</td>\n",
              "      <td>80.0</td>\n",
              "      <td>male</td>\n",
              "      <td>scalp</td>\n",
              "      <td>/content/drive/Shared drives/ECE4179/Colab/dat...</td>\n",
              "      <td>Benign keratosis-like lesions</td>\n",
              "      <td>2</td>\n",
              "      <td>5340</td>\n",
              "      <td>404</td>\n",
              "      <td>5406</td>\n",
              "      <td>128</td>\n",
              "      <td>duplicated</td>\n",
              "      <td>train</td>\n",
              "    </tr>\n",
              "    <tr>\n",
              "      <th>3</th>\n",
              "      <td>3</td>\n",
              "      <td>HAM_0002730</td>\n",
              "      <td>ISIC_0025661</td>\n",
              "      <td>bkl</td>\n",
              "      <td>histo</td>\n",
              "      <td>80.0</td>\n",
              "      <td>male</td>\n",
              "      <td>scalp</td>\n",
              "      <td>/content/drive/Shared drives/ECE4179/Colab/dat...</td>\n",
              "      <td>Benign keratosis-like lesions</td>\n",
              "      <td>2</td>\n",
              "      <td>5340</td>\n",
              "      <td>404</td>\n",
              "      <td>5406</td>\n",
              "      <td>128</td>\n",
              "      <td>duplicated</td>\n",
              "      <td>train</td>\n",
              "    </tr>\n",
              "    <tr>\n",
              "      <th>4</th>\n",
              "      <td>4</td>\n",
              "      <td>HAM_0001466</td>\n",
              "      <td>ISIC_0031633</td>\n",
              "      <td>bkl</td>\n",
              "      <td>histo</td>\n",
              "      <td>75.0</td>\n",
              "      <td>male</td>\n",
              "      <td>ear</td>\n",
              "      <td>/content/drive/Shared drives/ECE4179/Colab/dat...</td>\n",
              "      <td>Benign keratosis-like lesions</td>\n",
              "      <td>2</td>\n",
              "      <td>5340</td>\n",
              "      <td>618</td>\n",
              "      <td>5406</td>\n",
              "      <td>56</td>\n",
              "      <td>duplicated</td>\n",
              "      <td>train</td>\n",
              "    </tr>\n",
              "  </tbody>\n",
              "</table>\n",
              "</div>"
            ],
            "text/plain": [
              "   index    lesion_id      image_id  ... MR_localization  duplicates  train_or_val\n",
              "0      0  HAM_0000118  ISIC_0027419  ...             128  duplicated         train\n",
              "1      1  HAM_0000118  ISIC_0025030  ...             128  duplicated         train\n",
              "2      2  HAM_0002730  ISIC_0026769  ...             128  duplicated         train\n",
              "3      3  HAM_0002730  ISIC_0025661  ...             128  duplicated         train\n",
              "4      4  HAM_0001466  ISIC_0031633  ...              56  duplicated         train\n",
              "\n",
              "[5 rows x 17 columns]"
            ]
          },
          "metadata": {
            "tags": []
          },
          "execution_count": 27
        }
      ]
    },
    {
      "cell_type": "code",
      "metadata": {
        "id": "OK3mthgG801C",
        "outputId": "48f74fd3-cfaf-4d4d-86e5-7cf2fe061312",
        "colab": {
          "base_uri": "https://localhost:8080/",
          "height": 288
        }
      },
      "source": [
        "df_val.head()"
      ],
      "execution_count": null,
      "outputs": [
        {
          "output_type": "execute_result",
          "data": {
            "text/html": [
              "<div>\n",
              "<style scoped>\n",
              "    .dataframe tbody tr th:only-of-type {\n",
              "        vertical-align: middle;\n",
              "    }\n",
              "\n",
              "    .dataframe tbody tr th {\n",
              "        vertical-align: top;\n",
              "    }\n",
              "\n",
              "    .dataframe thead th {\n",
              "        text-align: right;\n",
              "    }\n",
              "</style>\n",
              "<table border=\"1\" class=\"dataframe\">\n",
              "  <thead>\n",
              "    <tr style=\"text-align: right;\">\n",
              "      <th></th>\n",
              "      <th>index</th>\n",
              "      <th>lesion_id</th>\n",
              "      <th>image_id</th>\n",
              "      <th>dx</th>\n",
              "      <th>dx_type</th>\n",
              "      <th>age</th>\n",
              "      <th>sex</th>\n",
              "      <th>localization</th>\n",
              "      <th>path</th>\n",
              "      <th>cell_type</th>\n",
              "      <th>cell_type_idx</th>\n",
              "      <th>MR_dx_type</th>\n",
              "      <th>MR_age</th>\n",
              "      <th>MR_sex</th>\n",
              "      <th>MR_localization</th>\n",
              "      <th>duplicates</th>\n",
              "    </tr>\n",
              "  </thead>\n",
              "  <tbody>\n",
              "    <tr>\n",
              "      <th>0</th>\n",
              "      <td>4781</td>\n",
              "      <td>HAM_0000199</td>\n",
              "      <td>ISIC_0026127</td>\n",
              "      <td>nv</td>\n",
              "      <td>follow_up</td>\n",
              "      <td>55.0</td>\n",
              "      <td>male</td>\n",
              "      <td>lower extremity</td>\n",
              "      <td>/content/drive/Shared drives/ECE4179/Colab/dat...</td>\n",
              "      <td>Melanocytic nevi</td>\n",
              "      <td>4</td>\n",
              "      <td>3704</td>\n",
              "      <td>1009</td>\n",
              "      <td>5406</td>\n",
              "      <td>2077</td>\n",
              "      <td>unduplicated</td>\n",
              "    </tr>\n",
              "    <tr>\n",
              "      <th>1</th>\n",
              "      <td>3294</td>\n",
              "      <td>HAM_0006655</td>\n",
              "      <td>ISIC_0025994</td>\n",
              "      <td>nv</td>\n",
              "      <td>follow_up</td>\n",
              "      <td>50.0</td>\n",
              "      <td>female</td>\n",
              "      <td>lower extremity</td>\n",
              "      <td>/content/drive/Shared drives/ECE4179/Colab/dat...</td>\n",
              "      <td>Melanocytic nevi</td>\n",
              "      <td>4</td>\n",
              "      <td>3704</td>\n",
              "      <td>1187</td>\n",
              "      <td>4552</td>\n",
              "      <td>2077</td>\n",
              "      <td>unduplicated</td>\n",
              "    </tr>\n",
              "    <tr>\n",
              "      <th>2</th>\n",
              "      <td>2089</td>\n",
              "      <td>HAM_0006004</td>\n",
              "      <td>ISIC_0027702</td>\n",
              "      <td>mel</td>\n",
              "      <td>histo</td>\n",
              "      <td>70.0</td>\n",
              "      <td>female</td>\n",
              "      <td>back</td>\n",
              "      <td>/content/drive/Shared drives/ECE4179/Colab/dat...</td>\n",
              "      <td>dermatofibroma</td>\n",
              "      <td>6</td>\n",
              "      <td>5340</td>\n",
              "      <td>756</td>\n",
              "      <td>4552</td>\n",
              "      <td>2192</td>\n",
              "      <td>unduplicated</td>\n",
              "    </tr>\n",
              "    <tr>\n",
              "      <th>3</th>\n",
              "      <td>9816</td>\n",
              "      <td>HAM_0004563</td>\n",
              "      <td>ISIC_0031211</td>\n",
              "      <td>akiec</td>\n",
              "      <td>histo</td>\n",
              "      <td>75.0</td>\n",
              "      <td>male</td>\n",
              "      <td>lower extremity</td>\n",
              "      <td>/content/drive/Shared drives/ECE4179/Colab/dat...</td>\n",
              "      <td>Actinic keratoses</td>\n",
              "      <td>0</td>\n",
              "      <td>5340</td>\n",
              "      <td>618</td>\n",
              "      <td>5406</td>\n",
              "      <td>2077</td>\n",
              "      <td>unduplicated</td>\n",
              "    </tr>\n",
              "    <tr>\n",
              "      <th>4</th>\n",
              "      <td>8611</td>\n",
              "      <td>HAM_0004275</td>\n",
              "      <td>ISIC_0026921</td>\n",
              "      <td>nv</td>\n",
              "      <td>histo</td>\n",
              "      <td>70.0</td>\n",
              "      <td>female</td>\n",
              "      <td>back</td>\n",
              "      <td>/content/drive/Shared drives/ECE4179/Colab/dat...</td>\n",
              "      <td>Melanocytic nevi</td>\n",
              "      <td>4</td>\n",
              "      <td>5340</td>\n",
              "      <td>756</td>\n",
              "      <td>4552</td>\n",
              "      <td>2192</td>\n",
              "      <td>unduplicated</td>\n",
              "    </tr>\n",
              "  </tbody>\n",
              "</table>\n",
              "</div>"
            ],
            "text/plain": [
              "   index    lesion_id      image_id  ... MR_sex MR_localization    duplicates\n",
              "0   4781  HAM_0000199  ISIC_0026127  ...   5406            2077  unduplicated\n",
              "1   3294  HAM_0006655  ISIC_0025994  ...   4552            2077  unduplicated\n",
              "2   2089  HAM_0006004  ISIC_0027702  ...   4552            2192  unduplicated\n",
              "3   9816  HAM_0004563  ISIC_0031211  ...   5406            2077  unduplicated\n",
              "4   8611  HAM_0004275  ISIC_0026921  ...   4552            2192  unduplicated\n",
              "\n",
              "[5 rows x 16 columns]"
            ]
          },
          "metadata": {
            "tags": []
          },
          "execution_count": 28
        }
      ]
    },
    {
      "cell_type": "code",
      "metadata": {
        "id": "M3_cuMpO0xaY",
        "outputId": "d4e72e94-b9d9-47f9-be59-29b6e9162691",
        "colab": {
          "base_uri": "https://localhost:8080/",
          "height": 477
        }
      },
      "source": [
        "fig, ax1 = plt.subplots(1, 1, figsize= (10, 5))\n",
        "df_train['cell_type'].value_counts().plot(kind='bar', ax=ax1)"
      ],
      "execution_count": null,
      "outputs": [
        {
          "output_type": "execute_result",
          "data": {
            "text/plain": [
              "<matplotlib.axes._subplots.AxesSubplot at 0x7f9f44694208>"
            ]
          },
          "metadata": {
            "tags": []
          },
          "execution_count": 29
        },
        {
          "output_type": "display_data",
          "data": {
            "image/png": "[encoded data removed]",
            "text/plain": [
              "<Figure size 720x360 with 1 Axes>"
            ]
          },
          "metadata": {
            "tags": []
          }
        }
      ]
    },
    {
      "cell_type": "markdown",
      "metadata": {
        "id": "p986FPKNVlHc"
      },
      "source": [
        "## Step 2. Model building"
      ]
    },
    {
      "cell_type": "code",
      "metadata": {
        "id": "J2IWH0Drf6Ke"
      },
      "source": [
        "class CNN_WRAP(nn.Module):\n",
        "  def __init__(self, model_ft):\n",
        "    super(CNN_WRAP, self).__init__()\n",
        "    self.cnn_out = model_ft\n",
        "\n",
        "    self.mr1 = nn.Linear(3, 8)\n",
        "    self.mr1_bn = nn.BatchNorm1d(8)\n",
        "    self.mr1_drop = nn.Dropout(0.5)\n",
        "\n",
        "    \n",
        "    self.fc1 = nn.Linear(24, 7)\n",
        "\n",
        "  def forward(self, x, mr):\n",
        "    y_cnn = self.cnn_out(x)\n",
        "\n",
        "    y_mr = F.relu(self.mr1_drop(self.mr1_bn(self.mr1(mr))))\n",
        "    x = self.fc1(torch.cat((y_cnn, y_mr), 1))\n",
        "    return F.log_softmax(x, dim=1)\n"
      ],
      "execution_count": null,
      "outputs": []
    },
    {
      "cell_type": "code",
      "metadata": {
        "id": "2nyb8uYfVlHd"
      },
      "source": [
        "# feature_extract is a boolean that defines if we are finetuning or feature extracting. \n",
        "# If feature_extract = False, the model is finetuned and all model parameters are updated. \n",
        "# If feature_extract = True, only the last layer parameters are updated, the others remain fixed.\n",
        "def set_parameter_requires_grad(model, feature_extracting):\n",
        "    if feature_extracting:\n",
        "        for param in model.parameters():\n",
        "            param.requires_grad = False"
      ],
      "execution_count": null,
      "outputs": []
    },
    {
      "cell_type": "code",
      "metadata": {
        "id": "_SKRLJA6VlHg"
      },
      "source": [
        "def initialize_model(model_name, num_classes, feature_extract, use_pretrained=True):\n",
        "    # Initialize these variables which will be set in this if statement. Each of these\n",
        "    #   variables is model specific.\n",
        "    model_ft = None\n",
        "    input_size = 0\n",
        "\n",
        "    if model_name == \"resnet\":\n",
        "        \"\"\" Resnet18, resnet34, resnet50, resnet101\n",
        "        \"\"\"\n",
        "        model_ft = models.resnet50(pretrained=use_pretrained)\n",
        "        set_parameter_requires_grad(model_ft, feature_extract)\n",
        "        num_ftrs = model_ft.fc.in_features\n",
        "        model_ft.fc = nn.Linear(num_ftrs, num_classes)\n",
        "        input_size = 224\n",
        "\n",
        "\n",
        "    elif model_name == \"vgg\":\n",
        "        \"\"\" VGG11_bn\n",
        "        \"\"\"\n",
        "        model_ft = models.vgg11_bn(pretrained=use_pretrained)\n",
        "        set_parameter_requires_grad(model_ft, feature_extract)\n",
        "        num_ftrs = model_ft.classifier[6].in_features\n",
        "        model_ft.classifier[6] = nn.Linear(num_ftrs,num_classes)\n",
        "        input_size = 224\n",
        "\n",
        "\n",
        "    elif model_name == \"densenet\":\n",
        "        \"\"\" Densenet121\n",
        "        \"\"\"\n",
        "        model_ft = models.densenet121(pretrained=use_pretrained)\n",
        "        set_parameter_requires_grad(model_ft, feature_extract)\n",
        "        num_ftrs = model_ft.classifier.in_features\n",
        "        model_ft.classifier = nn.Linear(num_ftrs, num_classes)\n",
        "        input_size = 224\n",
        "\n",
        "    elif model_name == \"inception\":\n",
        "        \"\"\" Inception v3\n",
        "        Be careful, expects (299,299) sized images and has auxiliary output\n",
        "        \"\"\"\n",
        "        model_ft = models.inception_v3(pretrained=use_pretrained)\n",
        "        set_parameter_requires_grad(model_ft, feature_extract)\n",
        "        # Handle the auxilary net\n",
        "        num_ftrs = model_ft.AuxLogits.fc.in_features\n",
        "        model_ft.AuxLogits.fc = nn.Linear(num_ftrs, num_classes)\n",
        "        # Handle the primary net\n",
        "        num_ftrs = model_ft.fc.in_features\n",
        "        model_ft.fc = nn.Linear(num_ftrs,num_classes)\n",
        "        input_size = 299\n",
        "\n",
        "    elif model_name == \"custom\":\n",
        "      model_ft = DeepCNN()\n",
        "      input_size = 224\n",
        "\n",
        "    else:\n",
        "        print(\"Invalid model name, exiting...\")\n",
        "        exit()\n",
        "    \n",
        "    model_ft = CNN_WRAP(model_ft)\n",
        "\n",
        "    return model_ft, input_size"
      ],
      "execution_count": null,
      "outputs": []
    },
    {
      "cell_type": "markdown",
      "metadata": {
        "id": "EBTKYfh1VlHk"
      },
      "source": [
        "You can change your backbone network, here are 4 different networks, each network also has sevaral versions. Considering the limited training data, we used the ImageNet pre-training model for fine-tuning. This can speed up the convergence of the model and improve the accuracy.\n",
        "\n",
        "There is one thing you need to pay attention to, the input size of Inception is different from the others (299x299), you need to change the setting of compute_img_mean_std() function "
      ]
    },
    {
      "cell_type": "code",
      "metadata": {
        "id": "CbZ0P3SPVlHm",
        "outputId": "8238e934-6cc4-4094-8e59-6366c9f1e05e",
        "colab": {
          "base_uri": "https://localhost:8080/",
          "height": 52
        }
      },
      "source": [
        "# resnet,vgg,densenet,inception\n",
        "#model_name = 'densenet'\n",
        "model_name = 'densenet'\n",
        "num_classes = 16\n",
        "feature_extract = False\n",
        "# Initialize the model for this run\n",
        "model_ft, input_size = initialize_model(model_name, num_classes, feature_extract, use_pretrained=True)\n",
        "# Define the device:\n",
        "device = torch.device('cuda:0')\n",
        "# Put the model on the device:\n",
        "model = model_ft.to(device)"
      ],
      "execution_count": null,
      "outputs": [
        {
          "output_type": "stream",
          "text": [
            "Downloading: \"https://download.pytorch.org/models/densenet121-a639ec97.pth\" to /root/.cache/torch/checkpoints/densenet121-a639ec97.pth\n",
            "100%|██████████| 30.8M/30.8M [00:01<00:00, 16.8MB/s]\n"
          ],
          "name": "stderr"
        }
      ]
    },
    {
      "cell_type": "code",
      "metadata": {
        "id": "pKSdUlFUVlHp"
      },
      "source": [
        "# norm_mean = (0.49139968, 0.48215827, 0.44653124)\n",
        "# norm_std = (0.24703233, 0.24348505, 0.26158768)\n",
        "# define the transformation of the train images.\n",
        "train_transform = transforms.Compose([transforms.Resize((input_size,input_size)),transforms.RandomHorizontalFlip(),\n",
        "                                      transforms.RandomVerticalFlip(),transforms.RandomRotation(20),\n",
        "                                      transforms.ColorJitter(brightness=0.1, contrast=0.1, hue=0.1),\n",
        "                                        transforms.ToTensor(), transforms.Normalize(norm_mean, norm_std)])\n",
        "# define the transformation of the val images.\n",
        "val_transform = transforms.Compose([transforms.Resize((input_size,input_size)), transforms.ToTensor(),\n",
        "                                    transforms.Normalize(norm_mean, norm_std)])"
      ],
      "execution_count": null,
      "outputs": []
    },
    {
      "cell_type": "code",
      "metadata": {
        "id": "pRCQxJGSVlHr"
      },
      "source": [
        "# Define a pytorch dataloader for this dataset\n",
        "class HAM10000(Dataset):\n",
        "    def __init__(self, df, transform=None):\n",
        "        self.df = df\n",
        "        self.transform = transform\n",
        "\n",
        "    def __len__(self):\n",
        "        return len(self.df)\n",
        "\n",
        "    def __getitem__(self, index):\n",
        "        # Load data and get label\n",
        "        X = Image.open(self.df['path'][index])\n",
        "        MR = torch.FloatTensor([self.df[feat][index] for feat in ['MR_age', 'MR_sex', 'MR_localization']])\n",
        "        y = torch.tensor(int(self.df['cell_type_idx'][index]))\n",
        "\n",
        "        if self.transform:\n",
        "            X = self.transform(X)\n",
        "\n",
        "        return X, MR, y"
      ],
      "execution_count": null,
      "outputs": []
    },
    {
      "cell_type": "code",
      "metadata": {
        "id": "xRCZSy7-VlHt"
      },
      "source": [
        "# Define the training set using the table train_df and using our defined transitions (train_transform)\n",
        "n_workers = multiprocessing.cpu_count()\n",
        "training_set = HAM10000(df_train, transform=train_transform)\n",
        "train_loader = DataLoader(training_set, batch_size=32, shuffle=True, num_workers=n_workers)\n",
        "# Same for the validation set:\n",
        "validation_set = HAM10000(df_val, transform=train_transform)\n",
        "val_loader = DataLoader(validation_set, batch_size=32, shuffle=False, num_workers=n_workers)"
      ],
      "execution_count": null,
      "outputs": []
    },
    {
      "cell_type": "code",
      "metadata": {
        "id": "4mhsVrkeQDao"
      },
      "source": [
        "class FocalLoss(nn.Module):\n",
        "    def __init__(self, gamma=0, alpha=None, size_average=True):\n",
        "        super(FocalLoss, self).__init__()\n",
        "        self.gamma = gamma\n",
        "        self.alpha = alpha\n",
        "        if isinstance(alpha,(float,int)): self.alpha = torch.Tensor([alpha,1-alpha])\n",
        "        if isinstance(alpha,list): self.alpha = torch.Tensor(alpha)\n",
        "        self.size_average = size_average\n",
        "\n",
        "    def forward(self, input, target):\n",
        "        if input.dim()>2:\n",
        "            input = input.view(input.size(0),input.size(1),-1)  # N,C,H,W => N,C,H*W\n",
        "            input = input.transpose(1,2)    # N,C,H*W => N,H*W,C\n",
        "            input = input.contiguous().view(-1,input.size(2))   # N,H*W,C => N*H*W,C\n",
        "        target = target.view(-1,1)\n",
        "\n",
        "        logpt = F.log_softmax(input, dim=1)\n",
        "        logpt = logpt.gather(1,target)\n",
        "        logpt = logpt.view(-1)\n",
        "        pt = Variable(logpt.data.exp())\n",
        "\n",
        "        if self.alpha is not None:\n",
        "            if self.alpha.type()!=input.data.type():\n",
        "                self.alpha = self.alpha.type_as(input.data)\n",
        "            at = self.alpha.gather(0,target.data.view(-1))\n",
        "            logpt = logpt * Variable(at)\n",
        "\n",
        "        loss = -1 * (1-pt)**self.gamma * logpt\n",
        "        if self.size_average: return loss.mean()\n",
        "        else: return loss.sum()"
      ],
      "execution_count": null,
      "outputs": []
    },
    {
      "cell_type": "code",
      "metadata": {
        "id": "hXNY1OzvVlHw"
      },
      "source": [
        "# we use Adam optimizer, use cross entropy loss as our loss function\n",
        "optimizer = optim.Adam(model.parameters(), lr=1e-3)\n",
        "#criterion = nn.CrossEntropyLoss().to(device)\n",
        "criterion = FocalLoss(gamma=2.0).to(device)"
      ],
      "execution_count": null,
      "outputs": []
    },
    {
      "cell_type": "markdown",
      "metadata": {
        "id": "wK_9xFu1VlHz"
      },
      "source": [
        "## Step 3. Model training"
      ]
    },
    {
      "cell_type": "code",
      "metadata": {
        "id": "30cdwJ-pVlH0"
      },
      "source": [
        "# this function is used during training process, to calculation the loss and accuracy\n",
        "class AverageMeter(object):\n",
        "    def __init__(self):\n",
        "        self.reset()\n",
        "\n",
        "    def reset(self):\n",
        "        self.val = 0\n",
        "        self.avg = 0\n",
        "        self.sum = 0\n",
        "        self.count = 0\n",
        "\n",
        "    def update(self, val, n=1):\n",
        "        self.val = val\n",
        "        self.sum += val * n\n",
        "        self.count += n\n",
        "        self.avg = self.sum / self.count"
      ],
      "execution_count": null,
      "outputs": []
    },
    {
      "cell_type": "code",
      "metadata": {
        "id": "_xmVTrDyVlH2"
      },
      "source": [
        "total_loss_train, total_acc_train = [],[]\n",
        "def train(train_loader, model, criterion, optimizer, epoch):\n",
        "    model.train()\n",
        "    train_loss = AverageMeter()\n",
        "    train_acc = AverageMeter()\n",
        "    curr_iter = (epoch - 1) * len(train_loader)\n",
        "    for i, data in enumerate(train_loader):\n",
        "        images, mr, labels = data\n",
        "        N = images.size(0)\n",
        "        # print('image shape:',images.size(0), 'label shape',labels.size(0))\n",
        "        images = Variable(images).to(device)\n",
        "        labels = Variable(labels).to(device)\n",
        "        mr = Variable(mr).to(device)\n",
        "\n",
        "        optimizer.zero_grad()\n",
        "        outputs = model(images, mr)\n",
        "\n",
        "        loss = criterion(outputs, labels)\n",
        "        loss.backward()\n",
        "        optimizer.step()\n",
        "        prediction = outputs.max(1, keepdim=True)[1]\n",
        "        train_acc.update(prediction.eq(labels.view_as(prediction)).sum().item()/N)\n",
        "        train_loss.update(loss.item())\n",
        "        curr_iter += 1\n",
        "        '''\n",
        "        print('[epoch %d], [iter %d / %d], [train loss %.5f], [train acc %.5f]' % (\n",
        "            epoch, i + 1, len(train_loader), train_loss.avg, train_acc.avg))\n",
        "        total_loss_train.append(train_loss.avg)\n",
        "        total_acc_train.append(train_acc.avg)\n",
        "        '''\n",
        "\n",
        "        if (i + 1) % 50 == 0:\n",
        "            print('[epoch %d], [iter %d / %d], [train loss %.5f], [train acc %.5f]' % (\n",
        "                epoch, i + 1, len(train_loader), train_loss.avg, train_acc.avg))\n",
        "            total_loss_train.append(train_loss.avg)\n",
        "            total_acc_train.append(train_acc.avg)\n",
        "\n",
        "    return train_loss.avg, train_acc.avg"
      ],
      "execution_count": null,
      "outputs": []
    },
    {
      "cell_type": "code",
      "metadata": {
        "id": "0LBflzyKVlH4"
      },
      "source": [
        "def validate(val_loader, model, criterion, optimizer, epoch):\n",
        "    model.eval()\n",
        "    val_loss = AverageMeter()\n",
        "    val_acc = AverageMeter()\n",
        "    with torch.no_grad():\n",
        "        for i, data in enumerate(val_loader):\n",
        "            images, mr, labels = data\n",
        "            N = images.size(0)\n",
        "            images = Variable(images).to(device)\n",
        "            labels = Variable(labels).to(device)\n",
        "            mr = Variable(mr).to(device)\n",
        "\n",
        "            outputs = model(images, mr)\n",
        "            prediction = outputs.max(1, keepdim=True)[1]\n",
        "\n",
        "            val_acc.update(prediction.eq(labels.view_as(prediction)).sum().item()/N)\n",
        "\n",
        "            val_loss.update(criterion(outputs, labels).item())\n",
        "\n",
        "    print('------------------------------------------------------------')\n",
        "    print('[epoch %d], [val loss %.5f], [val acc %.5f]' % (epoch, val_loss.avg, val_acc.avg))\n",
        "    print('------------------------------------------------------------')\n",
        "    return val_loss.avg, val_acc.avg"
      ],
      "execution_count": null,
      "outputs": []
    },
    {
      "cell_type": "code",
      "metadata": {
        "id": "M6f33qjIaIUy"
      },
      "source": [
        "save_dir = '/content/drive/Shared drives/CNN_Skin_Cancer_Detection/Colab/model'\n",
        "model_name = 'CNN_Skin_Cancer_Detection_Project'\n",
        "start_from_checkpoint = False\n",
        "start_epoch = 1\n",
        "#Create Save Path from save_dir and model_name, we will save and load our checkpoint here\n",
        "save_path = os.path.join(save_dir, model_name + \".pt\")\n",
        "\n",
        "#Create the save directory if it does note exist\n",
        "if not os.path.isdir(save_dir):\n",
        "    os.makedirs(save_dir)\n",
        "\n",
        "#Load Checkpoint\n",
        "if start_from_checkpoint:\n",
        "    #Check if checkpoint exists\n",
        "    if os.path.isfile(save_path):\n",
        "        #load Checkpoint\n",
        "        check_point = torch.load(save_path)\n",
        "        #Checkpoint is saved as a python dictionary\n",
        "        #https://www.w3schools.com/python/python_dictionaries.asp\n",
        "        #here we unpack the dictionary to get our previous training states\n",
        "        model.load_state_dict(check_point['model_state_dict'])\n",
        "        optimizer.load_state_dict(check_point['optimizer_state_dict'])\n",
        "        start_epoch = check_point['epoch']\n",
        "        print(\"Checkpoint loaded, starting from epoch:\", start_epoch)\n",
        "    else:\n",
        "        #Raise Error if it does not exist\n",
        "        raise ValueError(\"Checkpoint Does not exist\")\n",
        "else:\n",
        "    #If checkpoint does exist and Start_From_Checkpoint = False\n",
        "    #Raise an error to prevent accidental overwriting\n",
        "    if os.path.isfile(save_path):\n",
        "        raise ValueError(\"Warning Checkpoint exists\")\n",
        "    else:\n",
        "        print(\"Starting from scratch\")"
      ],
      "execution_count": null,
      "outputs": []
    },
    {
      "cell_type": "code",
      "metadata": {
        "id": "kR-hVfmoVlH7",
        "outputId": "bf6d4ec9-d187-4e8b-e54d-fa8d4f3d6bf5",
        "colab": {
          "base_uri": "https://localhost:8080/",
          "height": 1000
        }
      },
      "source": [
        "epoch_num = 20\n",
        "best_val_acc = 0\n",
        "total_loss_val, total_acc_val = [],[]\n",
        "for epoch in range(1, epoch_num+1):\n",
        "    loss_train, acc_train = train(train_loader, model, criterion, optimizer, epoch)\n",
        "    loss_val, acc_val = validate(val_loader, model, criterion, optimizer, epoch)\n",
        "    total_loss_val.append(loss_val)\n",
        "    total_acc_val.append(acc_val)\n",
        "    if acc_val > best_val_acc:\n",
        "        torch.save({\n",
        "            'epoch':                 epoch,\n",
        "            'model_state_dict':      model.state_dict(),\n",
        "            'optimizer_state_dict':  optimizer.state_dict(), \n",
        "            'train_acc':             acc_train,\n",
        "            'valid_acc':             acc_val,\n",
        "        }, save_path)\n",
        "        best_val_acc = acc_val\n",
        "        print('*****************************************************')\n",
        "        print('best record: [epoch %d], [val loss %.5f], [val acc %.5f]' % (epoch, loss_val, acc_val))\n",
        "        print('*****************************************************')"
      ],
      "execution_count": null,
      "outputs": [
        {
          "output_type": "stream",
          "text": [
            "[epoch 1], [iter 50 / 279], [train loss 0.67978], [train acc 0.61938]\n",
            "[epoch 1], [iter 100 / 279], [train loss 0.61137], [train acc 0.63750]\n",
            "[epoch 1], [iter 150 / 279], [train loss 0.59442], [train acc 0.64583]\n",
            "[epoch 1], [iter 200 / 279], [train loss 0.57533], [train acc 0.65656]\n",
            "[epoch 1], [iter 250 / 279], [train loss 0.56311], [train acc 0.65838]\n",
            "------------------------------------------------------------\n",
            "[epoch 1], [val loss 0.34894], [val acc 0.78738]\n",
            "------------------------------------------------------------\n",
            "*****************************************************\n",
            "best record: [epoch 1], [val loss 0.34894], [val acc 0.78738]\n",
            "*****************************************************\n",
            "[epoch 2], [iter 50 / 279], [train loss 0.49472], [train acc 0.67750]\n",
            "[epoch 2], [iter 100 / 279], [train loss 0.48916], [train acc 0.68625]\n",
            "[epoch 2], [iter 150 / 279], [train loss 0.48309], [train acc 0.68792]\n",
            "[epoch 2], [iter 200 / 279], [train loss 0.48110], [train acc 0.68703]\n",
            "[epoch 2], [iter 250 / 279], [train loss 0.47752], [train acc 0.68800]\n",
            "------------------------------------------------------------\n",
            "[epoch 2], [val loss 0.27727], [val acc 0.83280]\n",
            "------------------------------------------------------------\n",
            "*****************************************************\n",
            "best record: [epoch 2], [val loss 0.27727], [val acc 0.83280]\n",
            "*****************************************************\n",
            "[epoch 3], [iter 50 / 279], [train loss 0.43929], [train acc 0.71313]\n",
            "[epoch 3], [iter 100 / 279], [train loss 0.42854], [train acc 0.71156]\n",
            "[epoch 3], [iter 150 / 279], [train loss 0.43299], [train acc 0.70958]\n",
            "[epoch 3], [iter 200 / 279], [train loss 0.43115], [train acc 0.70937]\n",
            "[epoch 3], [iter 250 / 279], [train loss 0.43007], [train acc 0.70937]\n",
            "------------------------------------------------------------\n",
            "[epoch 3], [val loss 0.25346], [val acc 0.83548]\n",
            "------------------------------------------------------------\n",
            "*****************************************************\n",
            "best record: [epoch 3], [val loss 0.25346], [val acc 0.83548]\n",
            "*****************************************************\n",
            "[epoch 4], [iter 50 / 279], [train loss 0.41102], [train acc 0.72062]\n",
            "[epoch 4], [iter 100 / 279], [train loss 0.39841], [train acc 0.72125]\n",
            "[epoch 4], [iter 150 / 279], [train loss 0.38853], [train acc 0.72354]\n",
            "[epoch 4], [iter 200 / 279], [train loss 0.39367], [train acc 0.72219]\n",
            "[epoch 4], [iter 250 / 279], [train loss 0.39460], [train acc 0.72337]\n",
            "------------------------------------------------------------\n",
            "[epoch 4], [val loss 0.23710], [val acc 0.85702]\n",
            "------------------------------------------------------------\n",
            "*****************************************************\n",
            "best record: [epoch 4], [val loss 0.23710], [val acc 0.85702]\n",
            "*****************************************************\n",
            "[epoch 5], [iter 50 / 279], [train loss 0.38193], [train acc 0.73687]\n",
            "[epoch 5], [iter 100 / 279], [train loss 0.37427], [train acc 0.75000]\n",
            "[epoch 5], [iter 150 / 279], [train loss 0.38935], [train acc 0.73500]\n",
            "[epoch 5], [iter 200 / 279], [train loss 0.39064], [train acc 0.72969]\n",
            "[epoch 5], [iter 250 / 279], [train loss 0.38446], [train acc 0.73175]\n",
            "------------------------------------------------------------\n",
            "[epoch 5], [val loss 0.20819], [val acc 0.86685]\n",
            "------------------------------------------------------------\n",
            "*****************************************************\n",
            "best record: [epoch 5], [val loss 0.20819], [val acc 0.86685]\n",
            "*****************************************************\n",
            "[epoch 6], [iter 50 / 279], [train loss 0.36642], [train acc 0.73562]\n",
            "[epoch 6], [iter 100 / 279], [train loss 0.35318], [train acc 0.74469]\n",
            "[epoch 6], [iter 150 / 279], [train loss 0.35190], [train acc 0.74313]\n",
            "[epoch 6], [iter 200 / 279], [train loss 0.35484], [train acc 0.74156]\n",
            "[epoch 6], [iter 250 / 279], [train loss 0.35867], [train acc 0.73813]\n",
            "------------------------------------------------------------\n",
            "[epoch 6], [val loss 0.25187], [val acc 0.82476]\n",
            "------------------------------------------------------------\n",
            "[epoch 7], [iter 50 / 279], [train loss 0.35144], [train acc 0.74313]\n",
            "[epoch 7], [iter 100 / 279], [train loss 0.34618], [train acc 0.75344]\n",
            "[epoch 7], [iter 150 / 279], [train loss 0.35545], [train acc 0.75000]\n",
            "[epoch 7], [iter 200 / 279], [train loss 0.35626], [train acc 0.74766]\n",
            "[epoch 7], [iter 250 / 279], [train loss 0.35178], [train acc 0.74950]\n",
            "------------------------------------------------------------\n",
            "[epoch 7], [val loss 0.19553], [val acc 0.88024]\n",
            "------------------------------------------------------------\n",
            "*****************************************************\n",
            "best record: [epoch 7], [val loss 0.19553], [val acc 0.88024]\n",
            "*****************************************************\n",
            "[epoch 8], [iter 50 / 279], [train loss 0.32327], [train acc 0.76500]\n",
            "[epoch 8], [iter 100 / 279], [train loss 0.32041], [train acc 0.75750]\n",
            "[epoch 8], [iter 150 / 279], [train loss 0.32258], [train acc 0.75833]\n",
            "[epoch 8], [iter 200 / 279], [train loss 0.32577], [train acc 0.75687]\n",
            "[epoch 8], [iter 250 / 279], [train loss 0.33177], [train acc 0.75513]\n",
            "------------------------------------------------------------\n",
            "[epoch 8], [val loss 0.18573], [val acc 0.88024]\n",
            "------------------------------------------------------------\n",
            "[epoch 9], [iter 50 / 279], [train loss 0.26912], [train acc 0.79187]\n",
            "[epoch 9], [iter 100 / 279], [train loss 0.30901], [train acc 0.77438]\n",
            "[epoch 9], [iter 150 / 279], [train loss 0.30592], [train acc 0.77229]\n",
            "[epoch 9], [iter 200 / 279], [train loss 0.31930], [train acc 0.76297]\n",
            "[epoch 9], [iter 250 / 279], [train loss 0.32655], [train acc 0.75900]\n",
            "------------------------------------------------------------\n",
            "[epoch 9], [val loss 0.18896], [val acc 0.87399]\n",
            "------------------------------------------------------------\n",
            "[epoch 10], [iter 50 / 279], [train loss 0.29636], [train acc 0.79375]\n",
            "[epoch 10], [iter 100 / 279], [train loss 0.30407], [train acc 0.78094]\n",
            "[epoch 10], [iter 150 / 279], [train loss 0.30972], [train acc 0.77479]\n",
            "[epoch 10], [iter 200 / 279], [train loss 0.30833], [train acc 0.77391]\n",
            "[epoch 10], [iter 250 / 279], [train loss 0.31042], [train acc 0.77300]\n",
            "------------------------------------------------------------\n",
            "[epoch 10], [val loss 0.21640], [val acc 0.85244]\n",
            "------------------------------------------------------------\n",
            "[epoch 11], [iter 50 / 279], [train loss 0.30389], [train acc 0.77125]\n",
            "[epoch 11], [iter 100 / 279], [train loss 0.30120], [train acc 0.77625]\n",
            "[epoch 11], [iter 150 / 279], [train loss 0.29953], [train acc 0.77250]\n",
            "[epoch 11], [iter 200 / 279], [train loss 0.30101], [train acc 0.77438]\n",
            "[epoch 11], [iter 250 / 279], [train loss 0.30246], [train acc 0.77312]\n",
            "------------------------------------------------------------\n",
            "[epoch 11], [val loss 0.16699], [val acc 0.89006]\n",
            "------------------------------------------------------------\n",
            "*****************************************************\n",
            "best record: [epoch 11], [val loss 0.16699], [val acc 0.89006]\n",
            "*****************************************************\n",
            "[epoch 12], [iter 50 / 279], [train loss 0.28048], [train acc 0.79875]\n",
            "[epoch 12], [iter 100 / 279], [train loss 0.30229], [train acc 0.77625]\n",
            "[epoch 12], [iter 150 / 279], [train loss 0.29470], [train acc 0.77812]\n",
            "[epoch 12], [iter 200 / 279], [train loss 0.29812], [train acc 0.77766]\n",
            "[epoch 12], [iter 250 / 279], [train loss 0.29954], [train acc 0.77812]\n",
            "------------------------------------------------------------\n",
            "[epoch 12], [val loss 0.15913], [val acc 0.89185]\n",
            "------------------------------------------------------------\n",
            "*****************************************************\n",
            "best record: [epoch 12], [val loss 0.15913], [val acc 0.89185]\n",
            "*****************************************************\n",
            "[epoch 13], [iter 50 / 279], [train loss 0.28935], [train acc 0.77500]\n",
            "[epoch 13], [iter 100 / 279], [train loss 0.29009], [train acc 0.77719]\n",
            "[epoch 13], [iter 150 / 279], [train loss 0.28025], [train acc 0.78396]\n",
            "[epoch 13], [iter 200 / 279], [train loss 0.28066], [train acc 0.78453]\n",
            "[epoch 13], [iter 250 / 279], [train loss 0.28523], [train acc 0.78100]\n",
            "------------------------------------------------------------\n",
            "[epoch 13], [val loss 0.22363], [val acc 0.85792]\n",
            "------------------------------------------------------------\n",
            "[epoch 14], [iter 50 / 279], [train loss 0.29584], [train acc 0.77875]\n",
            "[epoch 14], [iter 100 / 279], [train loss 0.29470], [train acc 0.77875]\n",
            "[epoch 14], [iter 150 / 279], [train loss 0.28743], [train acc 0.78208]\n",
            "[epoch 14], [iter 200 / 279], [train loss 0.28567], [train acc 0.78109]\n",
            "[epoch 14], [iter 250 / 279], [train loss 0.28440], [train acc 0.78163]\n",
            "------------------------------------------------------------\n",
            "[epoch 14], [val loss 0.19466], [val acc 0.86685]\n",
            "------------------------------------------------------------\n",
            "[epoch 15], [iter 50 / 279], [train loss 0.28126], [train acc 0.79625]\n",
            "[epoch 15], [iter 100 / 279], [train loss 0.26845], [train acc 0.79594]\n",
            "[epoch 15], [iter 150 / 279], [train loss 0.26381], [train acc 0.79812]\n",
            "[epoch 15], [iter 200 / 279], [train loss 0.25958], [train acc 0.80078]\n",
            "[epoch 15], [iter 250 / 279], [train loss 0.26239], [train acc 0.79600]\n",
            "------------------------------------------------------------\n",
            "[epoch 15], [val loss 0.18076], [val acc 0.87577]\n",
            "------------------------------------------------------------\n",
            "[epoch 16], [iter 50 / 279], [train loss 0.26334], [train acc 0.78000]\n",
            "[epoch 16], [iter 100 / 279], [train loss 0.26146], [train acc 0.79125]\n",
            "[epoch 16], [iter 150 / 279], [train loss 0.26479], [train acc 0.79104]\n",
            "[epoch 16], [iter 200 / 279], [train loss 0.27007], [train acc 0.78766]\n",
            "[epoch 16], [iter 250 / 279], [train loss 0.27378], [train acc 0.78625]\n",
            "------------------------------------------------------------\n",
            "[epoch 16], [val loss 0.16630], [val acc 0.88560]\n",
            "------------------------------------------------------------\n",
            "[epoch 17], [iter 50 / 279], [train loss 0.25470], [train acc 0.79500]\n",
            "[epoch 17], [iter 100 / 279], [train loss 0.25611], [train acc 0.79563]\n",
            "[epoch 17], [iter 150 / 279], [train loss 0.25795], [train acc 0.79833]\n",
            "[epoch 17], [iter 200 / 279], [train loss 0.26174], [train acc 0.79406]\n",
            "[epoch 17], [iter 250 / 279], [train loss 0.25596], [train acc 0.79675]\n",
            "------------------------------------------------------------\n",
            "[epoch 17], [val loss 0.17510], [val acc 0.86929]\n",
            "------------------------------------------------------------\n",
            "[epoch 18], [iter 50 / 279], [train loss 0.25282], [train acc 0.79688]\n",
            "[epoch 18], [iter 100 / 279], [train loss 0.25424], [train acc 0.78906]\n",
            "[epoch 18], [iter 150 / 279], [train loss 0.24975], [train acc 0.79458]\n",
            "[epoch 18], [iter 200 / 279], [train loss 0.25147], [train acc 0.79531]\n",
            "[epoch 18], [iter 250 / 279], [train loss 0.25126], [train acc 0.79512]\n",
            "------------------------------------------------------------\n",
            "[epoch 18], [val loss 0.22547], [val acc 0.85345]\n",
            "------------------------------------------------------------\n",
            "[epoch 19], [iter 50 / 279], [train loss 0.24422], [train acc 0.80625]\n",
            "[epoch 19], [iter 100 / 279], [train loss 0.24435], [train acc 0.80156]\n",
            "[epoch 19], [iter 150 / 279], [train loss 0.24610], [train acc 0.80167]\n",
            "[epoch 19], [iter 200 / 279], [train loss 0.24588], [train acc 0.80047]\n",
            "[epoch 19], [iter 250 / 279], [train loss 0.24919], [train acc 0.79950]\n",
            "------------------------------------------------------------\n",
            "[epoch 19], [val loss 0.15819], [val acc 0.89452]\n",
            "------------------------------------------------------------\n",
            "*****************************************************\n",
            "best record: [epoch 19], [val loss 0.15819], [val acc 0.89452]\n",
            "*****************************************************\n",
            "[epoch 20], [iter 50 / 279], [train loss 0.24108], [train acc 0.80125]\n",
            "[epoch 20], [iter 100 / 279], [train loss 0.24566], [train acc 0.80063]\n",
            "[epoch 20], [iter 150 / 279], [train loss 0.23395], [train acc 0.80500]\n",
            "[epoch 20], [iter 200 / 279], [train loss 0.23604], [train acc 0.80375]\n",
            "[epoch 20], [iter 250 / 279], [train loss 0.23497], [train acc 0.80375]\n",
            "------------------------------------------------------------\n",
            "[epoch 20], [val loss 0.17101], [val acc 0.87488]\n",
            "------------------------------------------------------------\n"
          ],
          "name": "stdout"
        }
      ]
    },
    {
      "cell_type": "code",
      "metadata": {
        "id": "6yF-srtIaTM9"
      },
      "source": [
        "save_dir = '/content/drive/Shared drives/CNN_Skin_Cancer_Detection/Colab/model'\n",
        "model_name = 'CNN_Skin_Cancer_Detection_Project'\n",
        "start_from_checkpoint = True\n",
        "start_epoch = 1\n",
        "#Create Save Path from save_dir and model_name, we will save and load our checkpoint here\n",
        "save_path = os.path.join(save_dir, model_name + \".pt\")\n",
        "\n",
        "#Create the save directory if it does note exist\n",
        "if not os.path.isdir(save_dir):\n",
        "    os.makedirs(save_dir)\n",
        "\n",
        "#Load Checkpoint\n",
        "if start_from_checkpoint:\n",
        "    #Check if checkpoint exists\n",
        "    if os.path.isfile(save_path):\n",
        "        #load Checkpoint\n",
        "        check_point = torch.load(save_path)\n",
        "        #Checkpoint is saved as a python dictionary\n",
        "        #https://www.w3schools.com/python/python_dictionaries.asp\n",
        "        #here we unpack the dictionary to get our previous training states\n",
        "        model.load_state_dict(check_point['model_state_dict'])\n",
        "        optimizer.load_state_dict(check_point['optimizer_state_dict'])\n",
        "        start_epoch = check_point['epoch']\n",
        "        print(\"Checkpoint loaded, starting from epoch:\", start_epoch)\n",
        "    else:\n",
        "        #Raise Error if it does not exist\n",
        "        raise ValueError(\"Checkpoint Does not exist\")\n",
        "else:\n",
        "    #If checkpoint does exist and Start_From_Checkpoint = False\n",
        "    #Raise an error to prevent accidental overwriting\n",
        "    if os.path.isfile(save_path):\n",
        "        raise ValueError(\"Warning Checkpoint exists\")\n",
        "    else:\n",
        "        print(\"Starting from scratch\")"
      ],
      "execution_count": null,
      "outputs": []
    },
    {
      "cell_type": "markdown",
      "metadata": {
        "id": "GXHmlw0HVlH8"
      },
      "source": [
        "## Step 4. Model evaluation"
      ]
    },
    {
      "cell_type": "code",
      "metadata": {
        "id": "W5XbO-PPVlH8"
      },
      "source": [
        "def plot_acc(num_epochs, training_acc_logger, validation_acc_logger):\n",
        "  plt.figure(figsize = (10,10))\n",
        "  train_x = np.linspace(0, num_epochs, len(training_acc_logger))\n",
        "  plt.plot(train_x, training_acc_logger, c = \"y\")\n",
        "  valid_x = np.linspace(0, num_epochs, len(validation_acc_logger))\n",
        "  plt.plot(valid_x, validation_acc_logger, c = \"k\")\n",
        "\n",
        "  plt.title('Accuracy')\n",
        "  plt.legend([\"Training Acc\", \"Validation Acc\"])\n",
        "  plt.show()\n",
        "\n",
        "def plot_result(num_epochs, training_loss_logger, validation_loss_logger):\n",
        "  #plot out the training_loss_logger and validation_loss_logger\n",
        "  plt.figure(figsize = (10,10))\n",
        "  train_x = np.linspace(0, num_epochs, len(training_loss_logger))\n",
        "  plt.plot(train_x, training_loss_logger, c = \"y\")\n",
        "  valid_x = np.linspace(0, num_epochs, len(validation_loss_logger))\n",
        "  plt.plot(valid_x, validation_loss_logger, c = \"k\")\n",
        "\n",
        "  plt.title(f'Epoch: {num_epochs}')\n",
        "  plt.legend([\"Training Loss\", \"Validation Loss\"])\n",
        "  plt.ylim(0, 5)\n",
        "  plt.show()"
      ],
      "execution_count": null,
      "outputs": []
    },
    {
      "cell_type": "code",
      "metadata": {
        "id": "JJWQjqvLqZCz",
        "outputId": "7b094c18-36a4-4521-891a-b2607f583131",
        "colab": {
          "base_uri": "https://localhost:8080/",
          "height": 1000
        }
      },
      "source": [
        "plot_acc(20, total_acc_train, total_acc_val)\n",
        "plot_result(20, total_loss_train, total_loss_val)"
      ],
      "execution_count": null,
      "outputs": [
        {
          "output_type": "display_data",
          "data": {
            "image/png": "[encoded data removed]",
            "text/plain": [
              "<Figure size 720x720 with 1 Axes>"
            ]
          },
          "metadata": {
            "tags": []
          }
        },
        {
          "output_type": "display_data",
          "data": {
            "image/png": "[encoded data removed]",
            "text/plain": [
              "<Figure size 720x720 with 1 Axes>"
            ]
          },
          "metadata": {
            "tags": []
          }
        }
      ]
    },
    {
      "cell_type": "code",
      "metadata": {
        "id": "VAKSdqdwVlIA"
      },
      "source": [
        "def plot_confusion_matrix(cm, classes,\n",
        "                          normalize=False,\n",
        "                          title='Confusion matrix',\n",
        "                          cmap=plt.cm.Blues):\n",
        "    \"\"\"\n",
        "    This function prints and plots the confusion matrix.\n",
        "    Normalization can be applied by setting `normalize=True`.\n",
        "    \"\"\"\n",
        "    plt.imshow(cm, interpolation='nearest', cmap=cmap)\n",
        "    plt.title(title)\n",
        "    plt.colorbar()\n",
        "    tick_marks = np.arange(len(classes))\n",
        "    plt.xticks(tick_marks, classes, rotation=45)\n",
        "    plt.yticks(tick_marks, classes)\n",
        "\n",
        "    if normalize:\n",
        "        cm = cm.astype('float') / cm.sum(axis=1)[:, np.newaxis]\n",
        "\n",
        "    thresh = cm.max() / 2.\n",
        "    for i, j in itertools.product(range(cm.shape[0]), range(cm.shape[1])):\n",
        "        plt.text(j, i, cm[i, j],\n",
        "                 horizontalalignment=\"center\",\n",
        "                 color=\"white\" if cm[i, j] > thresh else \"black\")\n",
        "\n",
        "    plt.tight_layout()\n",
        "    plt.ylabel('True label')\n",
        "    plt.xlabel('Predicted label')"
      ],
      "execution_count": null,
      "outputs": []
    },
    {
      "cell_type": "code",
      "metadata": {
        "id": "ySRLiOa-VlIC",
        "outputId": "b64adbdf-06c5-42fb-cc8e-1351f4995af6",
        "colab": {
          "base_uri": "https://localhost:8080/",
          "height": 311
        }
      },
      "source": [
        "model.eval()\n",
        "y_label = []\n",
        "y_predict = []\n",
        "with torch.no_grad():\n",
        "    for i, data in enumerate(val_loader):\n",
        "        images, mr, labels = data\n",
        "        N = images.size(0)\n",
        "        images = Variable(images).to(device)\n",
        "        mr = Variable(mr).to(device)\n",
        "        outputs = model(images, mr)\n",
        "        prediction = outputs.max(1, keepdim=True)[1]\n",
        "        y_label.extend(labels.cpu().numpy())\n",
        "        y_predict.extend(np.squeeze(prediction.cpu().numpy().T))\n",
        "\n",
        "# compute the confusion matrix\n",
        "confusion_mtx = confusion_matrix(y_label, y_predict)\n",
        "# plot the confusion matrix\n",
        "plot_labels = ['akiec', 'bcc', 'bkl', 'df', 'nv', 'vasc','mel']\n",
        "plot_confusion_matrix(confusion_mtx, plot_labels)"
      ],
      "execution_count": null,
      "outputs": [
        {
          "output_type": "display_data",
          "data": {
            "image/png": "[encoded data removed]",
            "text/plain": [
              "<Figure size 432x288 with 2 Axes>"
            ]
          },
          "metadata": {
            "tags": []
          }
        }
      ]
    },
    {
      "cell_type": "code",
      "metadata": {
        "id": "xlmRvBFHVlIE",
        "outputId": "31062fea-2264-4dc0-a3f3-75a7baf0ec66",
        "colab": {
          "base_uri": "https://localhost:8080/"
        }
      },
      "source": [
        "# Generate a classification report\n",
        "report = classification_report(y_label, y_predict, target_names=plot_labels)\n",
        "print(report)"
      ],
      "execution_count": null,
      "outputs": [
        {
          "output_type": "stream",
          "text": [
            "              precision    recall  f1-score   support\n",
            "\n",
            "       akiec       0.54      0.73      0.62        30\n",
            "         bcc       0.68      0.74      0.71        35\n",
            "         bkl       0.74      0.40      0.52        88\n",
            "          df       0.32      0.75      0.44         8\n",
            "          nv       0.96      0.96      0.96       883\n",
            "        vasc       0.90      0.69      0.78        13\n",
            "         mel       0.43      0.54      0.48        46\n",
            "\n",
            "    accuracy                           0.88      1103\n",
            "   macro avg       0.65      0.69      0.65      1103\n",
            "weighted avg       0.89      0.88      0.88      1103\n",
            "\n"
          ],
          "name": "stdout"
        }
      ]
    },
    {
      "cell_type": "code",
      "metadata": {
        "id": "pz_jdI7cVlIG",
        "outputId": "5b695d46-a621-4d2a-f122-a88f09100a95",
        "colab": {
          "base_uri": "https://localhost:8080/",
          "height": 301
        }
      },
      "source": [
        "label_frac_error = 1 - np.diag(confusion_mtx) / np.sum(confusion_mtx, axis=1)\n",
        "plt.bar(np.arange(7),label_frac_error)\n",
        "plt.xlabel('True Label')\n",
        "plt.ylabel('Fraction classified incorrectly')"
      ],
      "execution_count": null,
      "outputs": [
        {
          "output_type": "execute_result",
          "data": {
            "text/plain": [
              "Text(0, 0.5, 'Fraction classified incorrectly')"
            ]
          },
          "metadata": {
            "tags": []
          },
          "execution_count": 48
        },
        {
          "output_type": "display_data",
          "data": {
            "image/png": "[encoded data removed]",
            "text/plain": [
              "<Figure size 432x288 with 1 Axes>"
            ]
          },
          "metadata": {
            "tags": []
          }
        }
      ]
    },
    {
      "cell_type": "code",
      "metadata": {
        "id": "tW5J5i3rec0J",
        "outputId": "c97ca5c8-32da-473a-b829-ebf0be7f1c35",
        "colab": {
          "base_uri": "https://localhost:8080/"
        }
      },
      "source": [
        "from sklearn.preprocessing import LabelBinarizer\n",
        "def multiclass_roc_auc_score(y_test, y_pred, average=\"macro\"):\n",
        "  lb = LabelBinarizer()\n",
        "  lb.fit(y_test)\n",
        "  y_test = lb.transform(y_test)\n",
        "  y_pred = lb.transform(y_pred)\n",
        "  return roc_auc_score(y_test, y_pred, average=average)\n",
        "\n",
        "multiclass_roc_auc_score(y_label, y_predict)"
      ],
      "execution_count": null,
      "outputs": [
        {
          "output_type": "execute_result",
          "data": {
            "text/plain": [
              "0.8254097811893117"
            ]
          },
          "metadata": {
            "tags": []
          },
          "execution_count": 49
        }
      ]
    },
    {
      "cell_type": "markdown",
      "metadata": {
        "id": "IAKDwakaVlII"
      },
      "source": [
        "## Conclusion"
      ]
    },
    {
      "cell_type": "markdown",
      "metadata": {
        "id": "mxsO2YimVlII"
      },
      "source": [
        "I tried to train with different network structures. When using Densenet-121, the average accuracy of 7 classes on the validation set can reach 92% in 10 epochs. We also calculated the confusion matrix for all classes and the F1-score for each class, which is a more comprehensive indicator that can take into account both the precision and recall of the classification model.Our model can achieve more than 90% on the F1-score indicator.\n",
        "\n",
        "Due to limited time, we did not spend much time on model training. By increasing in training epochs, adjustmenting of model hyperparameters, and attempting at different networks may further enhance the performance of the model."
      ]
    },
    {
      "cell_type": "markdown",
      "metadata": {
        "id": "eaDhTLUSVlIK"
      },
      "source": [
        "## Next plan"
      ]
    },
    {
      "cell_type": "markdown",
      "metadata": {
        "id": "PxkJf9k1VlIL"
      },
      "source": [
        "How to use image data and patient case data at the same time, my plan is to use CNN to extract features from images, use xgboost to convert medical records into vectors and then concat them with CNN network full-layer features. Two branch networks are trained simultaneously using a loss function. We can refer to the methods used in the advertising CTR estimation task."
      ]
    }
  ]
}